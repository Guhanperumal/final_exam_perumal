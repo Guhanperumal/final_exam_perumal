{
 "cells": [
  {
   "cell_type": "code",
   "execution_count": 1,
   "id": "270e2c18-2206-4c5a-a431-1e989b6fef6d",
   "metadata": {},
   "outputs": [
    {
     "name": "stdout",
     "output_type": "stream",
     "text": [
      "10 squared is 100\n",
      "11 squared is 121\n",
      "12 squared is 144\n",
      "13 squared is 169\n",
      "14 squared is 196\n",
      "15 squared is 225\n",
      "16 squared is 256\n",
      "17 squared is 289\n",
      "18 squared is 324\n",
      "19 squared is 361\n",
      "20 squared is 400\n"
     ]
    }
   ],
   "source": [
    "# Task 1: Print square of numbers from 10 to 20\n",
    "for number in range(10, 21):\n",
    "    print(f\"{number} squared is {number ** 2}\")\n"
   ]
  },
  {
   "cell_type": "code",
   "execution_count": 3,
   "id": "1202b738-2dd6-4d04-b6ca-4f6e110dce42",
   "metadata": {},
   "outputs": [
    {
     "name": "stdout",
     "output_type": "stream",
     "text": [
      "--- Task 2 Output ---\n",
      "Pass\n",
      "No\n",
      "Pass\n",
      "No\n",
      "Pass\n"
     ]
    }
   ],
   "source": [
    "# Task 2: Check grades\n",
    "def check_grades(grades):\n",
    "    for grade in grades:\n",
    "        if grade >= 75:\n",
    "            print(\"Pass\")\n",
    "        else:\n",
    "            print(\"No\")\n",
    "\n",
    "# Run the function\n",
    "print(\"--- Task 2 Output ---\")\n",
    "check_grades([80, 60, 90, 70, 77])\n"
   ]
  },
  {
   "cell_type": "code",
   "execution_count": 5,
   "id": "28766ec8-d9f7-44e2-9039-97adcbfd6b51",
   "metadata": {},
   "outputs": [
    {
     "name": "stdout",
     "output_type": "stream",
     "text": [
      "--- Task 3 Output ---\n",
      "Total vowels: 14\n",
      "e: 3\n",
      "u: 3\n",
      "o: 4\n",
      "i: 4\n"
     ]
    }
   ],
   "source": [
    "# Task 3: Count vowels\n",
    "def count_vowels(text):\n",
    "    vowels = 'aeiou'\n",
    "    text = text.lower()\n",
    "    total = 0\n",
    "    counts = {}\n",
    "\n",
    "    for char in text:\n",
    "        if char in vowels:\n",
    "            total += 1\n",
    "            counts[char] = counts.get(char, 0) + 1\n",
    "\n",
    "    print(f\"Total vowels: {total}\")\n",
    "    for vowel, count in counts.items():\n",
    "        print(f\"{vowel}: {count}\")\n",
    "\n",
    "# Test Task 3\n",
    "print(\"--- Task 3 Output ---\")\n",
    "count_vowels(\"The purpose of computing is insight, not numbers.\")\n"
   ]
  },
  {
   "cell_type": "code",
   "execution_count": 13,
   "id": "44516747-2376-4291-b544-a731bc000dc6",
   "metadata": {},
   "outputs": [
    {
     "name": "stdout",
     "output_type": "stream",
     "text": [
      "Invalid input: abc\n",
      "Total numbers: 3\n",
      "Average: 20.00\n"
     ]
    }
   ],
   "source": [
    "# Task 4 (Alternative): Simulated user input\n",
    "def get_user_numbers_from_list(inputs):\n",
    "    numbers = []\n",
    "    for entry in inputs:\n",
    "        if entry.lower() == \"done\":\n",
    "            break\n",
    "        try:\n",
    "            num = float(entry)\n",
    "            numbers.append(num)\n",
    "        except ValueError:\n",
    "            print(f\"Invalid input: {entry}\")\n",
    "\n",
    "    if numbers:\n",
    "        print(f\"Total numbers: {len(numbers)}\")\n",
    "        print(f\"Average: {sum(numbers) / len(numbers):.2f}\")\n",
    "    else:\n",
    "        print(\"No valid numbers entered.\")\n",
    "\n",
    "# Simulate user input\n",
    "simulated_input = [\"10\", \"20\", \"abc\", \"30\", \"done\"]\n",
    "get_user_numbers_from_list(simulated_input)\n",
    "\n"
   ]
  },
  {
   "cell_type": "code",
   "execution_count": 9,
   "id": "0016798d-a6fb-4ac5-a162-789410d475b0",
   "metadata": {},
   "outputs": [
    {
     "name": "stdout",
     "output_type": "stream",
     "text": [
      "--- Task 5 Output ---\n",
      "Alice spent $170\n",
      "Bob spent $100\n",
      "Clara spent $200\n"
     ]
    }
   ],
   "source": [
    "# Task 5: Calculate total per customer\n",
    "def customer_totals(purchases):\n",
    "    totals = {}\n",
    "    for name, amount in purchases:\n",
    "        if name in totals:\n",
    "            totals[name] += amount\n",
    "        else:\n",
    "            totals[name] = amount\n",
    "\n",
    "    for customer, total in totals.items():\n",
    "        print(f\"{customer} spent ${total}\")\n",
    "\n",
    "# Run it\n",
    "print(\"--- Task 5 Output ---\")\n",
    "purchases = [(\"Alice\", 120), (\"Bob\", 80), (\"Alice\", 50), (\"Bob\", 20), (\"Clara\", 200)]\n",
    "customer_totals(purchases)\n"
   ]
  },
  {
   "cell_type": "code",
   "execution_count": 17,
   "id": "8fb84c68-21cc-416b-9f12-46cb5278e261",
   "metadata": {},
   "outputs": [
    {
     "name": "stdout",
     "output_type": "stream",
     "text": [
      "Collecting wbdata\n",
      "  Downloading wbdata-1.0.0-py3-none-any.whl.metadata (2.6 kB)\n",
      "Requirement already satisfied: appdirs<2.0,>=1.4 in c:\\users\\guhan\\anaconda3\\lib\\site-packages (from wbdata) (1.4.4)\n",
      "Collecting backoff<3.0.0,>=2.2.1 (from wbdata)\n",
      "  Downloading backoff-2.2.1-py3-none-any.whl.metadata (14 kB)\n",
      "Requirement already satisfied: cachetools<6.0.0,>=5.3.2 in c:\\users\\guhan\\anaconda3\\lib\\site-packages (from wbdata) (5.3.3)\n",
      "Collecting dateparser<2.0.0,>=1.2.0 (from wbdata)\n",
      "  Downloading dateparser-1.2.2-py3-none-any.whl.metadata (29 kB)\n",
      "Requirement already satisfied: decorator<6.0.0,>=5.1.1 in c:\\users\\guhan\\anaconda3\\lib\\site-packages (from wbdata) (5.1.1)\n",
      "Requirement already satisfied: requests<3.0,>=2.0 in c:\\users\\guhan\\anaconda3\\lib\\site-packages (from wbdata) (2.32.3)\n",
      "Collecting shelved-cache<0.4.0,>=0.3.1 (from wbdata)\n",
      "  Downloading shelved_cache-0.3.1-py3-none-any.whl.metadata (4.7 kB)\n",
      "Collecting tabulate<0.9.0,>=0.8.5 (from wbdata)\n",
      "  Downloading tabulate-0.8.10-py3-none-any.whl.metadata (25 kB)\n",
      "Requirement already satisfied: python-dateutil>=2.7.0 in c:\\users\\guhan\\anaconda3\\lib\\site-packages (from dateparser<2.0.0,>=1.2.0->wbdata) (2.9.0.post0)\n",
      "Collecting pytz>=2024.2 (from dateparser<2.0.0,>=1.2.0->wbdata)\n",
      "  Downloading pytz-2025.2-py2.py3-none-any.whl.metadata (22 kB)\n",
      "Requirement already satisfied: regex>=2024.9.11 in c:\\users\\guhan\\anaconda3\\lib\\site-packages (from dateparser<2.0.0,>=1.2.0->wbdata) (2024.9.11)\n",
      "Collecting tzlocal>=0.2 (from dateparser<2.0.0,>=1.2.0->wbdata)\n",
      "  Downloading tzlocal-5.3.1-py3-none-any.whl.metadata (7.6 kB)\n",
      "Requirement already satisfied: charset-normalizer<4,>=2 in c:\\users\\guhan\\anaconda3\\lib\\site-packages (from requests<3.0,>=2.0->wbdata) (3.3.2)\n",
      "Requirement already satisfied: idna<4,>=2.5 in c:\\users\\guhan\\anaconda3\\lib\\site-packages (from requests<3.0,>=2.0->wbdata) (3.7)\n",
      "Requirement already satisfied: urllib3<3,>=1.21.1 in c:\\users\\guhan\\anaconda3\\lib\\site-packages (from requests<3.0,>=2.0->wbdata) (2.2.3)\n",
      "Requirement already satisfied: certifi>=2017.4.17 in c:\\users\\guhan\\anaconda3\\lib\\site-packages (from requests<3.0,>=2.0->wbdata) (2025.1.31)\n",
      "Requirement already satisfied: six>=1.5 in c:\\users\\guhan\\anaconda3\\lib\\site-packages (from python-dateutil>=2.7.0->dateparser<2.0.0,>=1.2.0->wbdata) (1.16.0)\n",
      "Requirement already satisfied: tzdata in c:\\users\\guhan\\anaconda3\\lib\\site-packages (from tzlocal>=0.2->dateparser<2.0.0,>=1.2.0->wbdata) (2023.3)\n",
      "Downloading wbdata-1.0.0-py3-none-any.whl (18 kB)\n",
      "Downloading backoff-2.2.1-py3-none-any.whl (15 kB)\n",
      "Downloading dateparser-1.2.2-py3-none-any.whl (315 kB)\n",
      "Downloading shelved_cache-0.3.1-py3-none-any.whl (7.8 kB)\n",
      "Downloading tabulate-0.8.10-py3-none-any.whl (29 kB)\n",
      "Downloading pytz-2025.2-py2.py3-none-any.whl (509 kB)\n",
      "Downloading tzlocal-5.3.1-py3-none-any.whl (18 kB)\n",
      "Installing collected packages: pytz, tzlocal, tabulate, shelved-cache, backoff, dateparser, wbdata\n",
      "  Attempting uninstall: pytz\n",
      "    Found existing installation: pytz 2024.1\n",
      "    Uninstalling pytz-2024.1:\n",
      "      Successfully uninstalled pytz-2024.1\n",
      "  Attempting uninstall: tabulate\n",
      "    Found existing installation: tabulate 0.9.0\n",
      "    Uninstalling tabulate-0.9.0:\n",
      "      Successfully uninstalled tabulate-0.9.0\n",
      "Successfully installed backoff-2.2.1 dateparser-1.2.2 pytz-2025.2 shelved-cache-0.3.1 tabulate-0.8.10 tzlocal-5.3.1 wbdata-1.0.0\n",
      "    date  Population\n",
      "0   2020  10353442.0\n",
      "1   2019  10278887.0\n",
      "2   2018  10175214.0\n",
      "3   2017  10057698.0\n",
      "4   2016   9923085.0\n",
      "5   2015   9799186.0\n",
      "6   2014   9696110.0\n",
      "7   2013   9600379.0\n",
      "8   2012   9519374.0\n",
      "9   2011   9449213.0\n",
      "10  2010   9378126.0\n"
     ]
    }
   ],
   "source": [
    " # Task 6:\n",
    "!pip install wbdata\n",
    "\n",
    "import wbdata\n",
    "import pandas as pd\n",
    "from datetime import datetime\n",
    "\n",
    "# Set date range\n",
    "start_date = datetime(2010, 1, 1)\n",
    "end_date = datetime(2020, 12, 31)\n",
    "\n",
    "# Define indicator for total population\n",
    "indicators = {'SP.POP.TOTL': 'Population'}\n",
    "\n",
    "# Get population data for Sweden (country code = 'SE')\n",
    "df = wbdata.get_dataframe(indicators, country='SE', date=(start_date, end_date))\n",
    "\n",
    "# Reset index to move 'date' to a column\n",
    "df.reset_index(inplace=True)\n",
    "\n",
    "# Print the result\n",
    "print(df)"
   ]
  },
  {
   "cell_type": "code",
   "execution_count": null,
   "id": "c2c20ef1-930b-4d09-8302-bc6a89d4f263",
   "metadata": {},
   "outputs": [],
   "source": []
  }
 ],
 "metadata": {
  "kernelspec": {
   "display_name": "Python [conda env:base] *",
   "language": "python",
   "name": "conda-base-py"
  },
  "language_info": {
   "codemirror_mode": {
    "name": "ipython",
    "version": 3
   },
   "file_extension": ".py",
   "mimetype": "text/x-python",
   "name": "python",
   "nbconvert_exporter": "python",
   "pygments_lexer": "ipython3",
   "version": "3.12.7"
  }
 },
 "nbformat": 4,
 "nbformat_minor": 5
}
